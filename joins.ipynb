{
 "cells": [
  {
   "cell_type": "markdown",
   "id": "33c8b1e5",
   "metadata": {},
   "source": [
    "JOINS"
   ]
  },
  {
   "cell_type": "code",
   "execution_count": 16,
   "id": "b40db421",
   "metadata": {},
   "outputs": [
    {
     "name": "stdout",
     "output_type": "stream",
     "text": [
      "+--------------+-------------+----------+----------+--------+-----------+---------+--------------+------------+-----------+----------------+----------------+-------------+----------+------------+--------------------+\n",
      "|Country/Region|    Continent|Population|TotalCases|NewCases|TotalDeaths|NewDeaths|TotalRecovered|NewRecovered|ActiveCases|Serious,Critical|Tot Cases/1M pop|Deaths/1M pop|TotalTests|Tests/1M pop|          WHO Region|\n",
      "+--------------+-------------+----------+----------+--------+-----------+---------+--------------+------------+-----------+----------------+----------------+-------------+----------+------------+--------------------+\n",
      "|           USA|North America| 331198130|   5032179|    NULL|     162804|     NULL|       2576668|        NULL|    2292707|           18296|           15194|        492.0|  63139605|      190640|            Americas|\n",
      "|        Brazil|South America| 212710692|   2917562|    NULL|      98644|     NULL|       2047660|        NULL|     771258|            8318|           13716|        464.0|  13206188|       62085|            Americas|\n",
      "|         India|         Asia|1381344997|   2025409|    NULL|      41638|     NULL|       1377384|        NULL|     606387|            8944|            1466|         30.0|  22149351|       16035|      South-EastAsia|\n",
      "|        Russia|       Europe| 145940924|    871894|    NULL|      14606|     NULL|        676357|        NULL|     180931|            2300|            5974|        100.0|  29716907|      203623|              Europe|\n",
      "|  South Africa|       Africa|  59381566|    538184|    NULL|       9604|     NULL|        387316|        NULL|     141264|             539|            9063|        162.0|   3149807|       53044|              Africa|\n",
      "|        Mexico|North America| 129066160|    462690|    6590|      50517|      819|        308848|        4140|     103325|            3987|            3585|        391.0|   1056915|        8189|            Americas|\n",
      "|          Peru|South America|  33016319|    455409|    NULL|      20424|     NULL|        310337|        NULL|     124648|            1426|           13793|        619.0|   2493429|       75521|            Americas|\n",
      "|         Chile|South America|  19132514|    366671|    NULL|       9889|     NULL|        340168|        NULL|      16614|            1358|           19165|        517.0|   1760615|       92022|            Americas|\n",
      "|      Colombia|South America|  50936262|    357710|    NULL|      11939|     NULL|        192355|        NULL|     153416|            1493|            7023|        234.0|   1801835|       35374|            Americas|\n",
      "|         Spain|       Europe|  46756648|    354530|    NULL|      28500|     NULL|          NULL|        NULL|       NULL|             617|            7582|        610.0|   7064329|      151087|              Europe|\n",
      "|          Iran|         Asia|  84097623|    320117|    NULL|      17976|     NULL|        277463|        NULL|      24678|            4156|            3806|        214.0|   2612763|       31068|EasternMediterranean|\n",
      "|            UK|       Europe|  67922029|    308134|    NULL|      46413|     NULL|          NULL|        NULL|       NULL|              73|            4537|        683.0|  17515234|      257873|              Europe|\n",
      "|  Saudi Arabia|         Asia|  34865919|    284226|    NULL|       3055|     NULL|        247089|        NULL|      34082|            1915|            8152|         88.0|   3635705|      104277|EasternMediterranean|\n",
      "|      Pakistan|         Asia| 221295851|    281863|    NULL|       6035|     NULL|        256058|        NULL|      19770|             809|            1274|         27.0|   2058872|        9304|EasternMediterranean|\n",
      "|    Bangladesh|         Asia| 164851401|    249651|    NULL|       3306|     NULL|        143824|        NULL|     102521|            NULL|            1514|         20.0|   1225124|        7432|      South-EastAsia|\n",
      "|         Italy|       Europe|  60452568|    249204|    NULL|      35187|     NULL|        201323|        NULL|      12694|              42|            4122|        582.0|   7099713|      117443|              Europe|\n",
      "|        Turkey|         Asia|  84428331|    237265|    NULL|       5798|     NULL|        220546|        NULL|      10921|             580|            2810|         69.0|   5081802|       60191|              Europe|\n",
      "|     Argentina|South America|  45236884|    228195|    NULL|       4251|     NULL|         99852|        NULL|     124092|            1150|            5044|         94.0|    794544|       17564|            Americas|\n",
      "|       Germany|       Europe|  83811260|    215210|    NULL|       9252|     NULL|        196200|        NULL|       9758|             236|            2568|        110.0|   8586648|      102452|              Europe|\n",
      "|        France|       Europe|  65288306|    195633|    NULL|      30312|     NULL|         82460|        NULL|      82861|             384|            2996|        464.0|   3992206|       61147|              Europe|\n",
      "+--------------+-------------+----------+----------+--------+-----------+---------+--------------+------------+-----------+----------------+----------------+-------------+----------+------------+--------------------+\n",
      "only showing top 20 rows\n",
      "\n"
     ]
    }
   ],
   "source": [
    "#Biulding a Spark Session\n",
    "from pyspark.sql import SparkSession\n",
    "spark = SparkSession.builder.appName(\"jouns\").getOrCreate()\n",
    "\n",
    "# Reading CSV File for Performing Transformations\n",
    "country_latest = spark.read.csv(\"country_wise_latest.csv\", header = True, inferSchema = True)\n",
    "world_meter = spark.read.csv(\"worldometer_data.csv\", header = True, inferSchema = True)\n",
    "\n",
    "# country_latest.show()\n",
    "world_meter.show()"
   ]
  },
  {
   "cell_type": "markdown",
   "id": "b97c96b6",
   "metadata": {},
   "source": [
    "INNER JOIN"
   ]
  },
  {
   "cell_type": "code",
   "execution_count": 17,
   "id": "81a9ab6b",
   "metadata": {},
   "outputs": [
    {
     "name": "stdout",
     "output_type": "stream",
     "text": [
      "+--------------+---------+------+---------+------+---------+----------+-------------+------------------+---------------------+----------------------+-------------------+-------------+-----------------+--------------------+--------------+-------------+----------+----------+--------+-----------+---------+--------------+------------+-----------+----------------+----------------+-------------+----------+------------+--------------------+\n",
      "|Country/Region|Confirmed|Deaths|Recovered|Active|New cases|New deaths|New recovered|Deaths / 100 Cases|Recovered / 100 Cases|Deaths / 100 Recovered|Confirmed last week|1 week change|1 week % increase|          WHO Region|Country/Region|    Continent|Population|TotalCases|NewCases|TotalDeaths|NewDeaths|TotalRecovered|NewRecovered|ActiveCases|Serious,Critical|Tot Cases/1M pop|Deaths/1M pop|TotalTests|Tests/1M pop|          WHO Region|\n",
      "+--------------+---------+------+---------+------+---------+----------+-------------+------------------+---------------------+----------------------+-------------------+-------------+-----------------+--------------------+--------------+-------------+----------+----------+--------+-----------+---------+--------------+------------+-----------+----------------+----------------+-------------+----------+------------+--------------------+\n",
      "|        Brazil|  2442375| 87618|  1846641|508116|    23284|       614|        33728|              3.59|                75.61|                  4.74|            2118646|       323729|            15.28|            Americas|        Brazil|South America| 212710692|   2917562|    NULL|      98644|     NULL|       2047660|        NULL|     771258|            8318|           13716|        464.0|  13206188|       62085|            Americas|\n",
      "|         India|  1480073| 33408|   951166|495499|    44457|       637|        33598|              2.26|                64.26|                  3.51|            1155338|       324735|            28.11|     South-East Asia|         India|         Asia|1381344997|   2025409|    NULL|      41638|     NULL|       1377384|        NULL|     606387|            8944|            1466|         30.0|  22149351|       16035|      South-EastAsia|\n",
      "|        Russia|   816680| 13334|   602249|201097|     5607|        85|         3077|              1.63|                73.74|                  2.21|             776212|        40468|             5.21|              Europe|        Russia|       Europe| 145940924|    871894|    NULL|      14606|     NULL|        676357|        NULL|     180931|            2300|            5974|        100.0|  29716907|      203623|              Europe|\n",
      "|  South Africa|   452529|  7067|   274925|170537|     7096|       298|         9848|              1.56|                60.75|                  2.57|             373628|        78901|            21.12|              Africa|  South Africa|       Africa|  59381566|    538184|    NULL|       9604|     NULL|        387316|        NULL|     141264|             539|            9063|        162.0|   3149807|       53044|              Africa|\n",
      "|        Mexico|   395489| 44022|   303810| 47657|     4973|       342|         8588|             11.13|                76.82|                 14.49|             349396|        46093|            13.19|            Americas|        Mexico|North America| 129066160|    462690|    6590|      50517|      819|        308848|        4140|     103325|            3987|            3585|        391.0|   1056915|        8189|            Americas|\n",
      "|          Peru|   389717| 18418|   272547| 98752|    13756|       575|         4697|              4.73|                69.93|                  6.76|             357681|        32036|             8.96|            Americas|          Peru|South America|  33016319|    455409|    NULL|      20424|     NULL|        310337|        NULL|     124648|            1426|           13793|        619.0|   2493429|       75521|            Americas|\n",
      "|         Chile|   347923|  9187|   319954| 18782|     2133|        75|         1859|              2.64|                91.96|                  2.87|             333029|        14894|             4.47|            Americas|         Chile|South America|  19132514|    366671|    NULL|       9889|     NULL|        340168|        NULL|      16614|            1358|           19165|        517.0|   1760615|       92022|            Americas|\n",
      "|      Colombia|   257101|  8777|   131161|117163|    16306|       508|        11494|              3.41|                51.02|                  6.69|             204005|        53096|            26.03|            Americas|      Colombia|South America|  50936262|    357710|    NULL|      11939|     NULL|        192355|        NULL|     153416|            1493|            7023|        234.0|   1801835|       35374|            Americas|\n",
      "|         Spain|   272421| 28432|   150376| 93613|        0|         0|            0|             10.44|                 55.2|                 18.91|             264836|         7585|             2.86|              Europe|         Spain|       Europe|  46756648|    354530|    NULL|      28500|     NULL|          NULL|        NULL|       NULL|             617|            7582|        610.0|   7064329|      151087|              Europe|\n",
      "|          Iran|   293606| 15912|   255144| 22550|     2434|       212|         1931|              5.42|                 86.9|                  6.24|             276202|        17404|              6.3|Eastern Mediterra...|          Iran|         Asia|  84097623|    320117|    NULL|      17976|     NULL|        277463|        NULL|      24678|            4156|            3806|        214.0|   2612763|       31068|EasternMediterranean|\n",
      "|  Saudi Arabia|   268934|  2760|   222936| 43238|     1993|        27|         2613|              1.03|                 82.9|                  1.24|             253349|        15585|             6.15|Eastern Mediterra...|  Saudi Arabia|         Asia|  34865919|    284226|    NULL|       3055|     NULL|        247089|        NULL|      34082|            1915|            8152|         88.0|   3635705|      104277|EasternMediterranean|\n",
      "|      Pakistan|   274289|  5842|   241026| 27421|     1176|        20|         3592|              2.13|                87.87|                  2.42|             266096|         8193|             3.08|Eastern Mediterra...|      Pakistan|         Asia| 221295851|    281863|    NULL|       6035|     NULL|        256058|        NULL|      19770|             809|            1274|         27.0|   2058872|        9304|EasternMediterranean|\n",
      "|    Bangladesh|   226225|  2965|   125683| 97577|     2772|        37|         1801|              1.31|                55.56|                  2.36|             207453|        18772|             9.05|     South-East Asia|    Bangladesh|         Asia| 164851401|    249651|    NULL|       3306|     NULL|        143824|        NULL|     102521|            NULL|            1514|         20.0|   1225124|        7432|      South-EastAsia|\n",
      "|         Italy|   246286| 35112|   198593| 12581|      168|         5|          147|             14.26|                80.64|                 17.68|             244624|         1662|             0.68|              Europe|         Italy|       Europe|  60452568|    249204|    NULL|      35187|     NULL|        201323|        NULL|      12694|              42|            4122|        582.0|   7099713|      117443|              Europe|\n",
      "|        Turkey|   227019|  5630|   210469| 10920|      919|        17|          982|              2.48|                92.71|                  2.67|             220572|         6447|             2.92|              Europe|        Turkey|         Asia|  84428331|    237265|    NULL|       5798|     NULL|        220546|        NULL|      10921|             580|            2810|         69.0|   5081802|       60191|              Europe|\n",
      "|     Argentina|   167416|  3059|    72575| 91782|     4890|       120|         2057|              1.83|                43.35|                  4.21|             130774|        36642|            28.02|            Americas|     Argentina|South America|  45236884|    228195|    NULL|       4251|     NULL|         99852|        NULL|     124092|            1150|            5044|         94.0|    794544|       17564|            Americas|\n",
      "|       Germany|   207112|  9125|   190314|  7673|      445|         1|          259|              4.41|                91.89|                  4.79|             203325|         3787|             1.86|              Europe|       Germany|       Europe|  83811260|    215210|    NULL|       9252|     NULL|        196200|        NULL|       9758|             236|            2568|        110.0|   8586648|      102452|              Europe|\n",
      "|        France|   220352| 30212|    81212|108928|     2551|        17|          267|             13.71|                36.86|                  37.2|             214023|         6329|             2.96|              Europe|        France|       Europe|  65288306|    195633|    NULL|      30312|     NULL|         82460|        NULL|      82861|             384|            2996|        464.0|   3992206|       61147|              Europe|\n",
      "|          Iraq|   112585|  4458|    77144| 30983|     2553|        96|         1927|              3.96|                68.52|                  5.78|              94693|        17892|            18.89|Eastern Mediterra...|          Iraq|         Asia|  40306025|    140603|    NULL|       5161|     NULL|        101025|        NULL|      34417|             517|            3488|        128.0|   1092741|       27111|EasternMediterranean|\n",
      "|   Philippines|    82040|  1945|    26446| 53649|     1592|        13|          336|              2.37|                32.24|                  7.35|              68898|        13142|            19.07|     Western Pacific|   Philippines|         Asia| 109722719|    119460|    NULL|       2150|     NULL|         66837|        NULL|      50473|             239|            1089|         20.0|   1669996|       15220|      WesternPacific|\n",
      "+--------------+---------+------+---------+------+---------+----------+-------------+------------------+---------------------+----------------------+-------------------+-------------+-----------------+--------------------+--------------+-------------+----------+----------+--------+-----------+---------+--------------+------------+-----------+----------------+----------------+-------------+----------+------------+--------------------+\n",
      "only showing top 20 rows\n",
      "\n"
     ]
    }
   ],
   "source": [
    "# Perform inner join on country name\n",
    "df_joined = country_latest.join(world_meter, country_latest[\"Country/Region\"] == world_meter[\"Country/Region\"], \"inner\")\n",
    "\n",
    "# Show joined result\n",
    "df_joined.show()\n"
   ]
  },
  {
   "cell_type": "markdown",
   "id": "ac41a6f0",
   "metadata": {},
   "source": [
    "LEFT JOIN"
   ]
  },
  {
   "cell_type": "code",
   "execution_count": 18,
   "id": "a4c727fe",
   "metadata": {},
   "outputs": [
    {
     "name": "stdout",
     "output_type": "stream",
     "text": [
      "+-------------------+---------+------+---------+------+---------+----------+-------------+------------------+---------------------+----------------------+-------------------+-------------+-----------------+--------------------+-------------------+-----------------+----------+----------+--------+-----------+---------+--------------+------------+-----------+----------------+----------------+-------------+----------+------------+--------------------+\n",
      "|     Country/Region|Confirmed|Deaths|Recovered|Active|New cases|New deaths|New recovered|Deaths / 100 Cases|Recovered / 100 Cases|Deaths / 100 Recovered|Confirmed last week|1 week change|1 week % increase|          WHO Region|     Country/Region|        Continent|Population|TotalCases|NewCases|TotalDeaths|NewDeaths|TotalRecovered|NewRecovered|ActiveCases|Serious,Critical|Tot Cases/1M pop|Deaths/1M pop|TotalTests|Tests/1M pop|          WHO Region|\n",
      "+-------------------+---------+------+---------+------+---------+----------+-------------+------------------+---------------------+----------------------+-------------------+-------------+-----------------+--------------------+-------------------+-----------------+----------+----------+--------+-----------+---------+--------------+------------+-----------+----------------+----------------+-------------+----------+------------+--------------------+\n",
      "|        Afghanistan|    36263|  1269|    25198|  9796|      106|        10|           18|               3.5|                69.49|                  5.04|              35526|          737|             2.07|Eastern Mediterra...|        Afghanistan|             Asia|  39009447|     36896|    NULL|       1298|     NULL|         25840|        NULL|       9758|              31|             946|         33.0|     90396|        2317|EasternMediterranean|\n",
      "|            Albania|     4880|   144|     2745|  1991|      117|         6|           63|              2.95|                56.25|                  5.25|               4171|          709|             17.0|              Europe|            Albania|           Europe|   2877470|      6016|    NULL|        188|     NULL|          3155|        NULL|       2673|              23|            2091|         65.0|     38997|       13553|              Europe|\n",
      "|            Algeria|    27973|  1163|    18837|  7973|      616|         8|          749|              4.16|                67.34|                  6.17|              23691|         4282|            18.07|              Africa|            Algeria|           Africa|  43926079|     33626|    NULL|       1273|     NULL|         23238|        NULL|       9115|              57|             766|         29.0|      NULL|        NULL|              Africa|\n",
      "|            Andorra|      907|    52|      803|    52|       10|         0|            0|              5.73|                88.53|                  6.48|                884|           23|              2.6|              Europe|            Andorra|           Europe|     77278|       944|    NULL|         52|     NULL|           828|        NULL|         64|               1|           12216|        673.0|      3750|       48526|              Europe|\n",
      "|             Angola|      950|    41|      242|   667|       18|         1|            0|              4.32|                25.47|                 16.94|                749|          201|            26.84|              Africa|             Angola|           Africa|  32956300|      1483|    NULL|         64|     NULL|           520|        NULL|        899|              20|              45|          2.0|     64747|        1965|              Africa|\n",
      "|Antigua and Barbuda|       86|     3|       65|    18|        4|         0|            5|              3.49|                75.58|                  4.62|                 76|           10|            13.16|            Americas|Antigua and Barbuda|    North America|     98010|        92|    NULL|          3|     NULL|            76|        NULL|         13|               1|             939|         31.0|      1500|       15305|            Americas|\n",
      "|          Argentina|   167416|  3059|    72575| 91782|     4890|       120|         2057|              1.83|                43.35|                  4.21|             130774|        36642|            28.02|            Americas|          Argentina|    South America|  45236884|    228195|    NULL|       4251|     NULL|         99852|        NULL|     124092|            1150|            5044|         94.0|    794544|       17564|            Americas|\n",
      "|            Armenia|    37390|   711|    26665| 10014|       73|         6|          187|               1.9|                71.32|                  2.67|              34981|         2409|             6.89|              Europe|            Armenia|             Asia|   2963811|     39819|    NULL|        772|     NULL|         31556|        NULL|       7491|            NULL|           13435|        260.0|    171600|       57898|              Europe|\n",
      "|          Australia|    15303|   167|     9311|  5825|      368|         6|          137|              1.09|                60.84|                  1.79|              12428|         2875|            23.13|     Western Pacific|          Australia|Australia/Oceania|  25528864|     19890|    NULL|        255|     NULL|         10941|        NULL|       8694|              52|             779|         10.0|   4631419|      181419|      WesternPacific|\n",
      "|            Austria|    20558|   713|    18246|  1599|       86|         1|           37|              3.47|                88.75|                  3.91|              19743|          815|             4.13|              Europe|            Austria|           Europe|   9011577|     21696|    NULL|        719|     NULL|         19596|        NULL|       1381|              25|            2408|         80.0|    937275|      104008|              Europe|\n",
      "|         Azerbaijan|    30446|   423|    23242|  6781|      396|         6|          558|              1.39|                76.34|                  1.82|              27890|         2556|             9.16|              Europe|         Azerbaijan|             Asia|  10148243|     33247|    NULL|        479|     NULL|         29275|        NULL|       3493|              66|            3276|         47.0|    766179|       75499|              Europe|\n",
      "|            Bahamas|      382|    11|       91|   280|       40|         0|            0|              2.88|                23.82|                 12.09|                174|          208|           119.54|            Americas|            Bahamas|    North America|    393616|       761|    NULL|         14|     NULL|            91|        NULL|        656|               1|            1933|         36.0|      4814|       12230|            Americas|\n",
      "|            Bahrain|    39482|   141|    36110|  3231|      351|         1|          421|              0.36|                91.46|                  0.39|              36936|         2546|             6.89|Eastern Mediterra...|            Bahrain|             Asia|   1706669|     42889|    NULL|        156|     NULL|         39945|        NULL|       2788|              41|           25130|         91.0|    876700|      513691|EasternMediterranean|\n",
      "|         Bangladesh|   226225|  2965|   125683| 97577|     2772|        37|         1801|              1.31|                55.56|                  2.36|             207453|        18772|             9.05|     South-East Asia|         Bangladesh|             Asia| 164851401|    249651|    NULL|       3306|     NULL|        143824|        NULL|     102521|            NULL|            1514|         20.0|   1225124|        7432|      South-EastAsia|\n",
      "|           Barbados|      110|     7|       94|     9|        0|         0|            0|              6.36|                85.45|                  7.45|                106|            4|             3.77|            Americas|           Barbados|    North America|    287411|       133|    NULL|          7|     NULL|           100|        NULL|         26|            NULL|             463|         24.0|     12233|       42563|            Americas|\n",
      "|            Belarus|    67251|   538|    60492|  6221|      119|         4|           67|               0.8|                89.95|                  0.89|              66213|         1038|             1.57|              Europe|            Belarus|           Europe|   9449001|     68503|    NULL|        580|     NULL|         63756|        NULL|       4167|            NULL|            7250|         61.0|   1344303|      142269|              Europe|\n",
      "|            Belgium|    66428|  9822|    17452| 39154|      402|         1|           14|             14.79|                26.27|                 56.28|              64094|         2334|             3.64|              Europe|            Belgium|           Europe|  11594739|     71158|    NULL|       9859|     NULL|         17661|        NULL|      43638|              61|            6137|        850.0|   1767120|      152407|              Europe|\n",
      "|             Belize|       48|     2|       26|    20|        0|         0|            0|              4.17|                54.17|                  7.69|                 40|            8|             20.0|            Americas|             Belize|    North America|    398312|        86|    NULL|          2|     NULL|            31|        NULL|         53|               2|             216|          5.0|      3679|        9236|            Americas|\n",
      "|              Benin|     1770|    35|     1036|   699|        0|         0|            0|              1.98|                58.53|                  3.38|               1602|          168|            10.49|              Africa|              Benin|           Africa|  12151976|      1936|    NULL|         38|     NULL|          1600|        NULL|        298|               1|             159|          3.0|     93677|        7709|              Africa|\n",
      "|             Bhutan|       99|     0|       86|    13|        4|         0|            1|               0.0|                86.87|                   0.0|                 90|            9|             10.0|     South-East Asia|             Bhutan|             Asia|    772443|       105|    NULL|       NULL|     NULL|            93|        NULL|         12|            NULL|             136|         NULL|     54589|       70671|      South-EastAsia|\n",
      "+-------------------+---------+------+---------+------+---------+----------+-------------+------------------+---------------------+----------------------+-------------------+-------------+-----------------+--------------------+-------------------+-----------------+----------+----------+--------+-----------+---------+--------------+------------+-----------+----------------+----------------+-------------+----------+------------+--------------------+\n",
      "only showing top 20 rows\n",
      "\n"
     ]
    }
   ],
   "source": [
    "# Perform left join on country name\n",
    "df_left = country_latest.join(world_meter, country_latest[\"Country/Region\"] == world_meter[\"Country/Region\"], \"left\")\n",
    "\n",
    "# Show joined result\n",
    "df_left.show()\n"
   ]
  },
  {
   "cell_type": "markdown",
   "id": "db0316dc",
   "metadata": {},
   "source": [
    "RIGHT JOIN"
   ]
  },
  {
   "cell_type": "code",
   "execution_count": 19,
   "id": "e170cf60",
   "metadata": {},
   "outputs": [
    {
     "name": "stdout",
     "output_type": "stream",
     "text": [
      "+--------------+---------+------+---------+------+---------+----------+-------------+------------------+---------------------+----------------------+-------------------+-------------+-----------------+--------------------+--------------+-------------+----------+----------+--------+-----------+---------+--------------+------------+-----------+----------------+----------------+-------------+----------+------------+--------------------+\n",
      "|Country/Region|Confirmed|Deaths|Recovered|Active|New cases|New deaths|New recovered|Deaths / 100 Cases|Recovered / 100 Cases|Deaths / 100 Recovered|Confirmed last week|1 week change|1 week % increase|          WHO Region|Country/Region|    Continent|Population|TotalCases|NewCases|TotalDeaths|NewDeaths|TotalRecovered|NewRecovered|ActiveCases|Serious,Critical|Tot Cases/1M pop|Deaths/1M pop|TotalTests|Tests/1M pop|          WHO Region|\n",
      "+--------------+---------+------+---------+------+---------+----------+-------------+------------------+---------------------+----------------------+-------------------+-------------+-----------------+--------------------+--------------+-------------+----------+----------+--------+-----------+---------+--------------+------------+-----------+----------------+----------------+-------------+----------+------------+--------------------+\n",
      "|          NULL|     NULL|  NULL|     NULL|  NULL|     NULL|      NULL|         NULL|              NULL|                 NULL|                  NULL|               NULL|         NULL|             NULL|                NULL|           USA|North America| 331198130|   5032179|    NULL|     162804|     NULL|       2576668|        NULL|    2292707|           18296|           15194|        492.0|  63139605|      190640|            Americas|\n",
      "|        Brazil|  2442375| 87618|  1846641|508116|    23284|       614|        33728|              3.59|                75.61|                  4.74|            2118646|       323729|            15.28|            Americas|        Brazil|South America| 212710692|   2917562|    NULL|      98644|     NULL|       2047660|        NULL|     771258|            8318|           13716|        464.0|  13206188|       62085|            Americas|\n",
      "|         India|  1480073| 33408|   951166|495499|    44457|       637|        33598|              2.26|                64.26|                  3.51|            1155338|       324735|            28.11|     South-East Asia|         India|         Asia|1381344997|   2025409|    NULL|      41638|     NULL|       1377384|        NULL|     606387|            8944|            1466|         30.0|  22149351|       16035|      South-EastAsia|\n",
      "|        Russia|   816680| 13334|   602249|201097|     5607|        85|         3077|              1.63|                73.74|                  2.21|             776212|        40468|             5.21|              Europe|        Russia|       Europe| 145940924|    871894|    NULL|      14606|     NULL|        676357|        NULL|     180931|            2300|            5974|        100.0|  29716907|      203623|              Europe|\n",
      "|  South Africa|   452529|  7067|   274925|170537|     7096|       298|         9848|              1.56|                60.75|                  2.57|             373628|        78901|            21.12|              Africa|  South Africa|       Africa|  59381566|    538184|    NULL|       9604|     NULL|        387316|        NULL|     141264|             539|            9063|        162.0|   3149807|       53044|              Africa|\n",
      "|        Mexico|   395489| 44022|   303810| 47657|     4973|       342|         8588|             11.13|                76.82|                 14.49|             349396|        46093|            13.19|            Americas|        Mexico|North America| 129066160|    462690|    6590|      50517|      819|        308848|        4140|     103325|            3987|            3585|        391.0|   1056915|        8189|            Americas|\n",
      "|          Peru|   389717| 18418|   272547| 98752|    13756|       575|         4697|              4.73|                69.93|                  6.76|             357681|        32036|             8.96|            Americas|          Peru|South America|  33016319|    455409|    NULL|      20424|     NULL|        310337|        NULL|     124648|            1426|           13793|        619.0|   2493429|       75521|            Americas|\n",
      "|         Chile|   347923|  9187|   319954| 18782|     2133|        75|         1859|              2.64|                91.96|                  2.87|             333029|        14894|             4.47|            Americas|         Chile|South America|  19132514|    366671|    NULL|       9889|     NULL|        340168|        NULL|      16614|            1358|           19165|        517.0|   1760615|       92022|            Americas|\n",
      "|      Colombia|   257101|  8777|   131161|117163|    16306|       508|        11494|              3.41|                51.02|                  6.69|             204005|        53096|            26.03|            Americas|      Colombia|South America|  50936262|    357710|    NULL|      11939|     NULL|        192355|        NULL|     153416|            1493|            7023|        234.0|   1801835|       35374|            Americas|\n",
      "|         Spain|   272421| 28432|   150376| 93613|        0|         0|            0|             10.44|                 55.2|                 18.91|             264836|         7585|             2.86|              Europe|         Spain|       Europe|  46756648|    354530|    NULL|      28500|     NULL|          NULL|        NULL|       NULL|             617|            7582|        610.0|   7064329|      151087|              Europe|\n",
      "|          Iran|   293606| 15912|   255144| 22550|     2434|       212|         1931|              5.42|                 86.9|                  6.24|             276202|        17404|              6.3|Eastern Mediterra...|          Iran|         Asia|  84097623|    320117|    NULL|      17976|     NULL|        277463|        NULL|      24678|            4156|            3806|        214.0|   2612763|       31068|EasternMediterranean|\n",
      "|          NULL|     NULL|  NULL|     NULL|  NULL|     NULL|      NULL|         NULL|              NULL|                 NULL|                  NULL|               NULL|         NULL|             NULL|                NULL|            UK|       Europe|  67922029|    308134|    NULL|      46413|     NULL|          NULL|        NULL|       NULL|              73|            4537|        683.0|  17515234|      257873|              Europe|\n",
      "|  Saudi Arabia|   268934|  2760|   222936| 43238|     1993|        27|         2613|              1.03|                 82.9|                  1.24|             253349|        15585|             6.15|Eastern Mediterra...|  Saudi Arabia|         Asia|  34865919|    284226|    NULL|       3055|     NULL|        247089|        NULL|      34082|            1915|            8152|         88.0|   3635705|      104277|EasternMediterranean|\n",
      "|      Pakistan|   274289|  5842|   241026| 27421|     1176|        20|         3592|              2.13|                87.87|                  2.42|             266096|         8193|             3.08|Eastern Mediterra...|      Pakistan|         Asia| 221295851|    281863|    NULL|       6035|     NULL|        256058|        NULL|      19770|             809|            1274|         27.0|   2058872|        9304|EasternMediterranean|\n",
      "|    Bangladesh|   226225|  2965|   125683| 97577|     2772|        37|         1801|              1.31|                55.56|                  2.36|             207453|        18772|             9.05|     South-East Asia|    Bangladesh|         Asia| 164851401|    249651|    NULL|       3306|     NULL|        143824|        NULL|     102521|            NULL|            1514|         20.0|   1225124|        7432|      South-EastAsia|\n",
      "|         Italy|   246286| 35112|   198593| 12581|      168|         5|          147|             14.26|                80.64|                 17.68|             244624|         1662|             0.68|              Europe|         Italy|       Europe|  60452568|    249204|    NULL|      35187|     NULL|        201323|        NULL|      12694|              42|            4122|        582.0|   7099713|      117443|              Europe|\n",
      "|        Turkey|   227019|  5630|   210469| 10920|      919|        17|          982|              2.48|                92.71|                  2.67|             220572|         6447|             2.92|              Europe|        Turkey|         Asia|  84428331|    237265|    NULL|       5798|     NULL|        220546|        NULL|      10921|             580|            2810|         69.0|   5081802|       60191|              Europe|\n",
      "|     Argentina|   167416|  3059|    72575| 91782|     4890|       120|         2057|              1.83|                43.35|                  4.21|             130774|        36642|            28.02|            Americas|     Argentina|South America|  45236884|    228195|    NULL|       4251|     NULL|         99852|        NULL|     124092|            1150|            5044|         94.0|    794544|       17564|            Americas|\n",
      "|       Germany|   207112|  9125|   190314|  7673|      445|         1|          259|              4.41|                91.89|                  4.79|             203325|         3787|             1.86|              Europe|       Germany|       Europe|  83811260|    215210|    NULL|       9252|     NULL|        196200|        NULL|       9758|             236|            2568|        110.0|   8586648|      102452|              Europe|\n",
      "|        France|   220352| 30212|    81212|108928|     2551|        17|          267|             13.71|                36.86|                  37.2|             214023|         6329|             2.96|              Europe|        France|       Europe|  65288306|    195633|    NULL|      30312|     NULL|         82460|        NULL|      82861|             384|            2996|        464.0|   3992206|       61147|              Europe|\n",
      "+--------------+---------+------+---------+------+---------+----------+-------------+------------------+---------------------+----------------------+-------------------+-------------+-----------------+--------------------+--------------+-------------+----------+----------+--------+-----------+---------+--------------+------------+-----------+----------------+----------------+-------------+----------+------------+--------------------+\n",
      "only showing top 20 rows\n",
      "\n"
     ]
    }
   ],
   "source": [
    "# Perform right join on country name\n",
    "df_right = country_latest.join(world_meter, country_latest[\"Country/Region\"] == world_meter[\"Country/Region\"], \"right\")\n",
    "\n",
    "# Show joined result\n",
    "df_right.show()\n"
   ]
  },
  {
   "cell_type": "code",
   "execution_count": 20,
   "id": "d76d81e4",
   "metadata": {},
   "outputs": [
    {
     "name": "stdout",
     "output_type": "stream",
     "text": [
      "+-------------------+---------+------+---------+------+---------+----------+-------------+------------------+---------------------+----------------------+-------------------+-------------+-----------------+--------------------+-------------------+-----------------+----------+----------+--------+-----------+---------+--------------+------------+-----------+----------------+----------------+-------------+----------+------------+--------------------+\n",
      "|     Country/Region|Confirmed|Deaths|Recovered|Active|New cases|New deaths|New recovered|Deaths / 100 Cases|Recovered / 100 Cases|Deaths / 100 Recovered|Confirmed last week|1 week change|1 week % increase|          WHO Region|     Country/Region|        Continent|Population|TotalCases|NewCases|TotalDeaths|NewDeaths|TotalRecovered|NewRecovered|ActiveCases|Serious,Critical|Tot Cases/1M pop|Deaths/1M pop|TotalTests|Tests/1M pop|          WHO Region|\n",
      "+-------------------+---------+------+---------+------+---------+----------+-------------+------------------+---------------------+----------------------+-------------------+-------------+-----------------+--------------------+-------------------+-----------------+----------+----------+--------+-----------+---------+--------------+------------+-----------+----------------+----------------+-------------+----------+------------+--------------------+\n",
      "|        Afghanistan|    36263|  1269|    25198|  9796|      106|        10|           18|               3.5|                69.49|                  5.04|              35526|          737|             2.07|Eastern Mediterra...|        Afghanistan|             Asia|  39009447|     36896|    NULL|       1298|     NULL|         25840|        NULL|       9758|              31|             946|         33.0|     90396|        2317|EasternMediterranean|\n",
      "|            Albania|     4880|   144|     2745|  1991|      117|         6|           63|              2.95|                56.25|                  5.25|               4171|          709|             17.0|              Europe|            Albania|           Europe|   2877470|      6016|    NULL|        188|     NULL|          3155|        NULL|       2673|              23|            2091|         65.0|     38997|       13553|              Europe|\n",
      "|            Algeria|    27973|  1163|    18837|  7973|      616|         8|          749|              4.16|                67.34|                  6.17|              23691|         4282|            18.07|              Africa|            Algeria|           Africa|  43926079|     33626|    NULL|       1273|     NULL|         23238|        NULL|       9115|              57|             766|         29.0|      NULL|        NULL|              Africa|\n",
      "|            Andorra|      907|    52|      803|    52|       10|         0|            0|              5.73|                88.53|                  6.48|                884|           23|              2.6|              Europe|            Andorra|           Europe|     77278|       944|    NULL|         52|     NULL|           828|        NULL|         64|               1|           12216|        673.0|      3750|       48526|              Europe|\n",
      "|             Angola|      950|    41|      242|   667|       18|         1|            0|              4.32|                25.47|                 16.94|                749|          201|            26.84|              Africa|             Angola|           Africa|  32956300|      1483|    NULL|         64|     NULL|           520|        NULL|        899|              20|              45|          2.0|     64747|        1965|              Africa|\n",
      "|Antigua and Barbuda|       86|     3|       65|    18|        4|         0|            5|              3.49|                75.58|                  4.62|                 76|           10|            13.16|            Americas|Antigua and Barbuda|    North America|     98010|        92|    NULL|          3|     NULL|            76|        NULL|         13|               1|             939|         31.0|      1500|       15305|            Americas|\n",
      "|          Argentina|   167416|  3059|    72575| 91782|     4890|       120|         2057|              1.83|                43.35|                  4.21|             130774|        36642|            28.02|            Americas|          Argentina|    South America|  45236884|    228195|    NULL|       4251|     NULL|         99852|        NULL|     124092|            1150|            5044|         94.0|    794544|       17564|            Americas|\n",
      "|            Armenia|    37390|   711|    26665| 10014|       73|         6|          187|               1.9|                71.32|                  2.67|              34981|         2409|             6.89|              Europe|            Armenia|             Asia|   2963811|     39819|    NULL|        772|     NULL|         31556|        NULL|       7491|            NULL|           13435|        260.0|    171600|       57898|              Europe|\n",
      "|               NULL|     NULL|  NULL|     NULL|  NULL|     NULL|      NULL|         NULL|              NULL|                 NULL|                  NULL|               NULL|         NULL|             NULL|                NULL|              Aruba|    North America|    106812|       263|    NULL|          3|     NULL|           114|        NULL|        146|            NULL|            2462|         28.0|     14047|      131511|                NULL|\n",
      "|          Australia|    15303|   167|     9311|  5825|      368|         6|          137|              1.09|                60.84|                  1.79|              12428|         2875|            23.13|     Western Pacific|          Australia|Australia/Oceania|  25528864|     19890|    NULL|        255|     NULL|         10941|        NULL|       8694|              52|             779|         10.0|   4631419|      181419|      WesternPacific|\n",
      "|            Austria|    20558|   713|    18246|  1599|       86|         1|           37|              3.47|                88.75|                  3.91|              19743|          815|             4.13|              Europe|            Austria|           Europe|   9011577|     21696|    NULL|        719|     NULL|         19596|        NULL|       1381|              25|            2408|         80.0|    937275|      104008|              Europe|\n",
      "|         Azerbaijan|    30446|   423|    23242|  6781|      396|         6|          558|              1.39|                76.34|                  1.82|              27890|         2556|             9.16|              Europe|         Azerbaijan|             Asia|  10148243|     33247|    NULL|        479|     NULL|         29275|        NULL|       3493|              66|            3276|         47.0|    766179|       75499|              Europe|\n",
      "|            Bahamas|      382|    11|       91|   280|       40|         0|            0|              2.88|                23.82|                 12.09|                174|          208|           119.54|            Americas|            Bahamas|    North America|    393616|       761|    NULL|         14|     NULL|            91|        NULL|        656|               1|            1933|         36.0|      4814|       12230|            Americas|\n",
      "|            Bahrain|    39482|   141|    36110|  3231|      351|         1|          421|              0.36|                91.46|                  0.39|              36936|         2546|             6.89|Eastern Mediterra...|            Bahrain|             Asia|   1706669|     42889|    NULL|        156|     NULL|         39945|        NULL|       2788|              41|           25130|         91.0|    876700|      513691|EasternMediterranean|\n",
      "|         Bangladesh|   226225|  2965|   125683| 97577|     2772|        37|         1801|              1.31|                55.56|                  2.36|             207453|        18772|             9.05|     South-East Asia|         Bangladesh|             Asia| 164851401|    249651|    NULL|       3306|     NULL|        143824|        NULL|     102521|            NULL|            1514|         20.0|   1225124|        7432|      South-EastAsia|\n",
      "|           Barbados|      110|     7|       94|     9|        0|         0|            0|              6.36|                85.45|                  7.45|                106|            4|             3.77|            Americas|           Barbados|    North America|    287411|       133|    NULL|          7|     NULL|           100|        NULL|         26|            NULL|             463|         24.0|     12233|       42563|            Americas|\n",
      "|            Belarus|    67251|   538|    60492|  6221|      119|         4|           67|               0.8|                89.95|                  0.89|              66213|         1038|             1.57|              Europe|            Belarus|           Europe|   9449001|     68503|    NULL|        580|     NULL|         63756|        NULL|       4167|            NULL|            7250|         61.0|   1344303|      142269|              Europe|\n",
      "|            Belgium|    66428|  9822|    17452| 39154|      402|         1|           14|             14.79|                26.27|                 56.28|              64094|         2334|             3.64|              Europe|            Belgium|           Europe|  11594739|     71158|    NULL|       9859|     NULL|         17661|        NULL|      43638|              61|            6137|        850.0|   1767120|      152407|              Europe|\n",
      "|             Belize|       48|     2|       26|    20|        0|         0|            0|              4.17|                54.17|                  7.69|                 40|            8|             20.0|            Americas|             Belize|    North America|    398312|        86|    NULL|          2|     NULL|            31|        NULL|         53|               2|             216|          5.0|      3679|        9236|            Americas|\n",
      "|              Benin|     1770|    35|     1036|   699|        0|         0|            0|              1.98|                58.53|                  3.38|               1602|          168|            10.49|              Africa|              Benin|           Africa|  12151976|      1936|    NULL|         38|     NULL|          1600|        NULL|        298|               1|             159|          3.0|     93677|        7709|              Africa|\n",
      "+-------------------+---------+------+---------+------+---------+----------+-------------+------------------+---------------------+----------------------+-------------------+-------------+-----------------+--------------------+-------------------+-----------------+----------+----------+--------+-----------+---------+--------------+------------+-----------+----------------+----------------+-------------+----------+------------+--------------------+\n",
      "only showing top 20 rows\n",
      "\n"
     ]
    }
   ],
   "source": [
    "# Perform full outer join on country name\n",
    "df_outer = country_latest.join(world_meter, country_latest[\"Country/Region\"] == world_meter[\"Country/Region\"], \"outer\")\n",
    "\n",
    "# Show joined result\n",
    "df_outer.show()\n"
   ]
  }
 ],
 "metadata": {
  "kernelspec": {
   "display_name": "Python 3",
   "language": "python",
   "name": "python3"
  },
  "language_info": {
   "codemirror_mode": {
    "name": "ipython",
    "version": 3
   },
   "file_extension": ".py",
   "mimetype": "text/x-python",
   "name": "python",
   "nbconvert_exporter": "python",
   "pygments_lexer": "ipython3",
   "version": "3.10.4"
  }
 },
 "nbformat": 4,
 "nbformat_minor": 5
}
