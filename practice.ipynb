{
 "cells": [
  {
   "cell_type": "code",
   "execution_count": 5,
   "id": "0e15dc51",
   "metadata": {},
   "outputs": [],
   "source": [
    "from pyspark.sql import SparkSession\n",
    "from pyspark.sql.functions import col,sum as spark_sum,avg,when\n",
    "\n",
    "spark = SparkSession.builder.appName(\"COVID Analysis\").getOrCreate()\n",
    "\n",
    "country_latest = spark.read.csv(\"country_wise_latest.csv\", header = True, inferSchema = True)"
   ]
  },
  {
   "cell_type": "code",
   "execution_count": null,
   "id": "21a14cd9",
   "metadata": {},
   "outputs": [
    {
     "name": "stdout",
     "output_type": "stream",
     "text": [
      "+-------------------+------------------+\n",
      "|     Country/Region|  Death_Percentage|\n",
      "+-------------------+------------------+\n",
      "|        Afghanistan| 3.499434685492099|\n",
      "|            Albania|2.9508196721311477|\n",
      "|            Algeria|4.1575805240767885|\n",
      "|            Andorra| 5.733186328555679|\n",
      "|             Angola| 4.315789473684211|\n",
      "|Antigua and Barbuda| 3.488372093023256|\n",
      "|          Argentina| 1.827184976346347|\n",
      "|            Armenia| 1.901577962021931|\n",
      "|          Australia|1.0912892896817616|\n",
      "|            Austria|  3.46823620974803|\n",
      "|         Azerbaijan| 1.389345069959929|\n",
      "|            Bahamas|2.8795811518324608|\n",
      "|            Bahrain|0.3571247657160225|\n",
      "|         Bangladesh| 1.310642059896121|\n",
      "|           Barbados| 6.363636363636363|\n",
      "|            Belarus|0.7999881042661077|\n",
      "|            Belgium|14.785933642439936|\n",
      "|             Belize| 4.166666666666666|\n",
      "|              Benin| 1.977401129943503|\n",
      "|             Bhutan|               0.0|\n",
      "+-------------------+------------------+\n",
      "only showing top 20 rows\n",
      "\n",
      "Global Death Percentage: 3.97%\n"
     ]
    }
   ],
   "source": [
    "# To find out the death percentage locally and globally\n",
    "global_deaths = country_latest.agg(spark_sum(\"Deaths\").alias(\"TotalDeaths\")).first()[\"TotalDeaths\"]\n",
    "global_confirmed = country_latest.agg(spark_sum(\"Confirmed\").alias(\"TotalConfirmed\")).first()[\"TotalConfirmed\"]\n",
    "global_death_percentage = (global_deaths / global_confirmed) * 100\n",
    "\n",
    "country_death_percentage = country_latest.withColumn(\n",
    "    \"Death_Percentage\", (col(\"Deaths\") / col(\"Confirmed\")) * 100\n",
    ").select(\"Country/Region\",\"Death_Percentage\").show()\n",
    "\n",
    "# country_death_percentage.select(\"Country/Region\").show()\n",
    "\n",
    "print(f\"Global Death Percentage: {global_death_percentage:.2f}%\")\n",
    "# country_death_percentage.show()\n"
   ]
  },
  {
   "cell_type": "code",
   "execution_count": 10,
   "id": "87e052a1",
   "metadata": {},
   "outputs": [
    {
     "name": "stdout",
     "output_type": "stream",
     "text": [
      "+--------------+-------------------+\n",
      "|Country/Region|Infected_Percentage|\n",
      "+--------------+-------------------+\n",
      "|           USA| 1.5193862960518527|\n",
      "|        Brazil| 1.3716104125127853|\n",
      "|         India|0.14662586134519442|\n",
      "|        Russia| 0.5974294091765514|\n",
      "|  South Africa| 0.9063149328193871|\n",
      "|        Mexico|0.35849056019021563|\n",
      "|          Peru| 1.3793451656436928|\n",
      "|         Chile| 1.9164810228284688|\n",
      "|      Colombia| 0.7022698289089215|\n",
      "|         Spain| 0.7582451162880623|\n",
      "|          Iran| 0.3806492842253104|\n",
      "|            UK| 0.4536584147096077|\n",
      "|  Saudi Arabia| 0.8151972130721694|\n",
      "|      Pakistan| 0.1273693106880707|\n",
      "|    Bangladesh|0.15144002324857403|\n",
      "|         Italy| 0.4122306268279621|\n",
      "|        Turkey|0.28102533496723986|\n",
      "|     Argentina| 0.5044445590018977|\n",
      "|       Germany|  0.256779339673452|\n",
      "|        France|0.29964477865301026|\n",
      "+--------------+-------------------+\n",
      "only showing top 20 rows\n",
      "\n",
      "Global Infected Percentage: 0.30%\n"
     ]
    }
   ],
   "source": [
    "worldometer = spark.read.csv(\"worldometer_data.csv\", header = True, inferSchema = True)\n",
    "global_population = worldometer.agg(spark_sum(\"Population\").alias(\"TotalPop\")).first()[\"TotalPop\"]\n",
    "global_infected = worldometer.agg(spark_sum(\"TotalCases\").alias(\"TotalCases\")).first()[\"TotalCases\"]\n",
    "global_infected_percentage = (global_infected / global_population) * 100\n",
    "\n",
    "infected_percentage = worldometer.withColumn(\n",
    "    \"Infected_Percentage\", (col(\"TotalCases\") / col(\"Population\")) * 100\n",
    ").select(\"Country/Region\",\"Infected_Percentage\").show()\n",
    "print(f\"Global Infected Percentage: {global_infected_percentage:.2f}%\")"
   ]
  },
  {
   "cell_type": "code",
   "execution_count": null,
   "id": "63f83531",
   "metadata": {},
   "outputs": [
    {
     "name": "stdout",
     "output_type": "stream",
     "text": [
      "+--------------+-------------------+\n",
      "|Country/Region|Infected_Percentage|\n",
      "+--------------+-------------------+\n",
      "|           USA| 1.5193862960518527|\n",
      "|        Brazil| 1.3716104125127853|\n",
      "|         India|0.14662586134519442|\n",
      "|        Russia| 0.5974294091765514|\n",
      "|  South Africa| 0.9063149328193871|\n",
      "|        Mexico|0.35849056019021563|\n",
      "|          Peru| 1.3793451656436928|\n",
      "|         Chile| 1.9164810228284688|\n",
      "|      Colombia| 0.7022698289089215|\n",
      "|         Spain| 0.7582451162880623|\n",
      "|          Iran| 0.3806492842253104|\n",
      "|            UK| 0.4536584147096077|\n",
      "|  Saudi Arabia| 0.8151972130721694|\n",
      "|      Pakistan| 0.1273693106880707|\n",
      "|    Bangladesh|0.15144002324857403|\n",
      "|         Italy| 0.4122306268279621|\n",
      "|        Turkey|0.28102533496723986|\n",
      "|     Argentina| 0.5044445590018977|\n",
      "|       Germany|  0.256779339673452|\n",
      "|        France|0.29964477865301026|\n",
      "+--------------+-------------------+\n",
      "only showing top 20 rows\n",
      "\n"
     ]
    }
   ],
   "source": [
    "# 3. Countries with Highest Infection Rates\n",
    "infected_percentage = worldometer.withColumn(\n",
    "    \"Infected_Percentage\", (col(\"TotalCases\") / col(\"Population\")) * 100\n",
    ").select(\"Country/Region\", \"Infected_Percentage\")\n",
    "\n",
    "infected_percentage.show()  \n"
   ]
  },
  {
   "cell_type": "code",
   "execution_count": 23,
   "id": "f17f67e7",
   "metadata": {},
   "outputs": [
    {
     "name": "stdout",
     "output_type": "stream",
     "text": [
      "+-------+-----------+\n",
      "|Country|TotalDeaths|\n",
      "+-------+-----------+\n",
      "|    USA|     162804|\n",
      "| Brazil|      98644|\n",
      "| Mexico|      50517|\n",
      "|     UK|      46413|\n",
      "|  India|      41638|\n",
      "|  Italy|      35187|\n",
      "| France|      30312|\n",
      "|  Spain|      28500|\n",
      "|   Peru|      20424|\n",
      "|   Iran|      17976|\n",
      "+-------+-----------+\n",
      "\n",
      "+-----------------+-----------+\n",
      "|        Continent|TotalDeaths|\n",
      "+-----------------+-----------+\n",
      "|    North America|     229855|\n",
      "|           Europe|     205232|\n",
      "|    South America|     154885|\n",
      "|             Asia|     100627|\n",
      "|           Africa|      22114|\n",
      "|Australia/Oceania|        281|\n",
      "|             NULL|         13|\n",
      "+-----------------+-----------+\n",
      "\n"
     ]
    }
   ],
   "source": [
    "# 4. Countries and Continents with Highest Death Counts\n",
    "top_death_countries = worldometer.select(col(\"Country/Region\").alias(\"Country\"), \"TotalDeaths\") \\\n",
    "    .orderBy(col(\"TotalDeaths\").desc()).limit(10)\n",
    "\n",
    "top_death_continents = worldometer.groupBy(\"Continent\") \\\n",
    "    .agg(spark_sum(\"TotalDeaths\").alias(\"TotalDeaths\")) \\\n",
    "    .orderBy(col(\"TotalDeaths\").desc())\n",
    "\n",
    "top_death_countries.show()\n",
    "\n",
    "top_death_continents.show()"
   ]
  },
  {
   "cell_type": "code",
   "execution_count": null,
   "id": "85d37bd9",
   "metadata": {},
   "outputs": [
    {
     "name": "stdout",
     "output_type": "stream",
     "text": [
      "+-------------+-------------------+\n",
      "|      Country|Infected_Percentage|\n",
      "+-------------+-------------------+\n",
      "|        Qatar| 3.9921575750452756|\n",
      "|French Guiana| 2.7145648579588157|\n",
      "|      Bahrain| 2.5130239079751258|\n",
      "|   San Marino| 2.0596381637102956|\n",
      "|        Chile| 1.9164810228284688|\n",
      "|       Panama|  1.652703989232825|\n",
      "|       Kuwait| 1.6378443167538763|\n",
      "|         Oman| 1.5769043963734304|\n",
      "|          USA| 1.5193862960518527|\n",
      "| Vatican City| 1.4981273408239701|\n",
      "+-------------+-------------------+\n",
      "\n"
     ]
    }
   ],
   "source": [
    "# 6. Average of Cases Divided by Population (Top 10)\n",
    "top_avg_cases_population = infected_percentage.select(col(\"Country/Region\").alias(\"Country\"), \"Infected_Percentage\") \\\n",
    "    .orderBy(col(\"Infected_Percentage\").desc()).limit(10)\n",
    "top_avg_cases_population.show()"
   ]
  }
 ],
 "metadata": {
  "kernelspec": {
   "display_name": "Python 3",
   "language": "python",
   "name": "python3"
  },
  "language_info": {
   "codemirror_mode": {
    "name": "ipython",
    "version": 3
   },
   "file_extension": ".py",
   "mimetype": "text/x-python",
   "name": "python",
   "nbconvert_exporter": "python",
   "pygments_lexer": "ipython3",
   "version": "3.10.4"
  }
 },
 "nbformat": 4,
 "nbformat_minor": 5
}
